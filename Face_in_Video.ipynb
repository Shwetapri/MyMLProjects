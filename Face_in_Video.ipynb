{
  "nbformat": 4,
  "nbformat_minor": 0,
  "metadata": {
    "colab": {
      "name": "Face in Video.ipynb",
      "version": "0.3.2",
      "provenance": []
    },
    "kernelspec": {
      "name": "python3",
      "display_name": "Python 3"
    }
  },
  "cells": [
    {
      "cell_type": "markdown",
      "metadata": {
        "id": "POoo5zbbvXS4",
        "colab_type": "text"
      },
      "source": [
        "https://www.youtube.com/watch?v=5geeB_dQbvs&feature=youtu.be"
      ]
    },
    {
      "cell_type": "code",
      "metadata": {
        "id": "AXHIRcwTm38i",
        "colab_type": "code",
        "colab": {}
      },
      "source": [
        "#Installing modules we need. And doing it only once.\n",
        "import pkgutil; \n",
        "if not pkgutil.find_loader(\"missingno\"):\n",
        "  !pip install missingno -q\n"
      ],
      "execution_count": 0,
      "outputs": []
    },
    {
      "cell_type": "code",
      "metadata": {
        "id": "kLE1vk--F0Jk",
        "colab_type": "code",
        "colab": {}
      },
      "source": [
        "def get_file(url):\n",
        "  fname = url.split('/')[-1]\n",
        "  if not Path(fname).exists():\n",
        "    print(\"Getting \", fname)\n",
        "    !wget {url} -q"
      ],
      "execution_count": 0,
      "outputs": []
    },
    {
      "cell_type": "code",
      "metadata": {
        "id": "OiqPVDmfkVEQ",
        "colab_type": "code",
        "colab": {}
      },
      "source": [
        "#importing modules we need \n",
        "from pathlib import Path\n",
        "from matplotlib import pyplot as plt\n"
      ],
      "execution_count": 0,
      "outputs": []
    },
    {
      "cell_type": "code",
      "metadata": {
        "id": "RSI0ROYBjN_v",
        "colab_type": "code",
        "colab": {}
      },
      "source": [
        "import cv2\n",
        "import os\n",
        "import numpy as np"
      ],
      "execution_count": 0,
      "outputs": []
    },
    {
      "cell_type": "code",
      "metadata": {
        "id": "v2OEr3IWkW1d",
        "colab_type": "code",
        "colab": {}
      },
      "source": [
        "#downloading files. This will run only once.\n",
        "get_file(\"https://www.dropbox.com/s/mq7julne4cudghx/haarcascade_frontalface_default.xml\")\n",
        "\n"
      ],
      "execution_count": 0,
      "outputs": []
    },
    {
      "cell_type": "code",
      "metadata": {
        "id": "7jAgNfUrr7iE",
        "colab_type": "code",
        "colab": {}
      },
      "source": [
        "get_file(\"https://www.dropbox.com/s/zr5rrpsb8jfl0b5/videoplayback.3gp\")\n",
        "camera = cv2.VideoCapture(\"videoplayback.3gp\")"
      ],
      "execution_count": 0,
      "outputs": []
    },
    {
      "cell_type": "code",
      "metadata": {
        "id": "ZQ6L1z63hWgG",
        "colab_type": "code",
        "colab": {}
      },
      "source": [
        "\n",
        "def imshow(image):\n",
        "  plt.grid(False)\n",
        "  if len(image.shape) == 3:\n",
        "    conv = cv2.COLOR_BGR2RGB\n",
        "  else:\n",
        "    conv = cv2.COLOR_GRAY2RGB\n",
        "  plt.imshow(cv2.cvtColor(image,conv ))\n",
        "  "
      ],
      "execution_count": 0,
      "outputs": []
    },
    {
      "cell_type": "code",
      "metadata": {
        "id": "3eIe_cGNkuLL",
        "colab_type": "code",
        "colab": {}
      },
      "source": [
        "def detect_face(image, scaleFactor = 1.2, minNeighbors = 5, minSize = (30, 30)):\n",
        "  faceCascade = cv2.CascadeClassifier(\"haarcascade_frontalface_default.xml\")\n",
        "  gr_image= cv2.cvtColor(image, cv2.COLOR_BGR2GRAY)\n",
        "  rects = faceCascade.detectMultiScale(gr_image,\n",
        "               scaleFactor = scaleFactor,\n",
        "               minNeighbors = minNeighbors, minSize = minSize,\n",
        "               flags = cv2.CASCADE_SCALE_IMAGE)\n",
        "  for (x, y, w, h) in rects:\n",
        "    cv2.rectangle(image, (x, y), (x + w, y + h), (0, 255, 0), 2)\n",
        "  return image"
      ],
      "execution_count": 0,
      "outputs": []
    },
    {
      "cell_type": "code",
      "metadata": {
        "id": "1BFDx5DwLlgQ",
        "colab_type": "code",
        "colab": {}
      },
      "source": [
        "def make_video(outvid, images=None, fps=30, size=None,\n",
        "               is_color=True, format=\"FMP4\"):\n",
        "    \"\"\"\n",
        "    Create a video from a list of images.\n",
        " \n",
        "    @param      outvid      output video\n",
        "    @param      images      list of images to use in the video\n",
        "    @param      fps         frame per second\n",
        "    @param      size        size of each frame\n",
        "    @param      is_color    color\n",
        "    @param      format      see http://www.fourcc.org/codecs.php\n",
        "    @return                 see http://opencv-python-tutroals.readthedocs.org/en/latest/py_tutorials/py_gui/py_video_display/py_video_display.html\n",
        "    \"\"\"\n",
        "    from cv2 import VideoWriter, VideoWriter_fourcc, imread, resize\n",
        "    fourcc = VideoWriter_fourcc(*format)\n",
        "    vid = None\n",
        "    for image in images:\n",
        "        if not os.path.exists(image):\n",
        "            raise FileNotFoundError(image)\n",
        "        img = imread(image)\n",
        "        if vid is None:\n",
        "            if size is None:\n",
        "                size = img.shape[1], img.shape[0]\n",
        "            vid = VideoWriter(outvid, fourcc, float(fps), size, is_color)\n",
        "        if size[0] != img.shape[1] and size[1] != img.shape[0]:\n",
        "            img = resize(img, size)\n",
        "        vid.write(img)\n",
        "    vid.release()\n",
        "    return vid\n",
        "\n"
      ],
      "execution_count": 0,
      "outputs": []
    },
    {
      "cell_type": "code",
      "metadata": {
        "id": "x3rpxfphepsC",
        "colab_type": "code",
        "colab": {}
      },
      "source": [
        "rm *.jpg"
      ],
      "execution_count": 0,
      "outputs": []
    },
    {
      "cell_type": "code",
      "metadata": {
        "id": "p9GXANxlu3SR",
        "colab_type": "code",
        "colab": {}
      },
      "source": [
        "def resize(image, width = None, height = None, inter = cv2.INTER_AREA):\n",
        "\t# initialize the dimensions of the image to be resized and\n",
        "\t# grab the image size\n",
        "\tdim = None\n",
        "\t(h, w) = image.shape[:2]\n",
        "\n",
        "\t# if both the width and height are None, then return the\n",
        "\t# original image\n",
        "\tif width is None and height is None:\n",
        "\t\treturn image\n",
        "\n",
        "\t# check to see if the width is None\n",
        "\tif width is None:\n",
        "\t\t# calculate the ratio of the height and construct the\n",
        "\t\t# dimensions\n",
        "\t\tr = height / float(h)\n",
        "\t\tdim = (int(w * r), height)\n",
        "\n",
        "\t# otherwise, the height is None\n",
        "\telse:\n",
        "\t\t# calculate the ratio of the width and construct the\n",
        "\t\t# dimensions\n",
        "\t\tr = width / float(w)\n",
        "\t\tdim = (width, int(h * r))\n",
        "\n",
        "\t# resize the image\n",
        "\tresized = cv2.resize(image, dim, interpolation = inter)\n",
        "\n",
        "\t# return the resized image\n",
        "\treturn resized"
      ],
      "execution_count": 0,
      "outputs": []
    },
    {
      "cell_type": "code",
      "metadata": {
        "id": "PnhrQqT7HKU7",
        "colab_type": "code",
        "colab": {}
      },
      "source": [
        "\n",
        "ROOT_DIR = os.getcwd()\n",
        "\n",
        "camera = cv2.VideoCapture(\"videoplayback.3gp\")\n",
        "frame_count = 0 \n",
        "frames = []\n",
        "while True:\n",
        "  (grabbed, frame) = camera.read()\n",
        "\n",
        "  if not grabbed:\n",
        "    break\n",
        "\n",
        "  frame = resize(frame, width = 300)\n",
        "  detect_face(frame, scaleFactor = 1.1, minNeighbors = 5,\n",
        "                      minSize = (30, 30))\n",
        "  if (frame_count%50 == 0):\n",
        "    print (frame_count)\n",
        "  frame_count += 1\n",
        "  name = '{0}.jpg'.format(frame_count)\n",
        "  name = os.path.join(ROOT_DIR, name)\n",
        "  cv2.imwrite(name, frame)\n"
      ],
      "execution_count": 0,
      "outputs": []
    },
    {
      "cell_type": "code",
      "metadata": {
        "id": "u5PrX-6Ndt_r",
        "colab_type": "code",
        "colab": {}
      },
      "source": [
        "rm *.mp4"
      ],
      "execution_count": 0,
      "outputs": []
    },
    {
      "cell_type": "code",
      "metadata": {
        "id": "irJavmohL_e4",
        "colab_type": "code",
        "colab": {}
      },
      "source": [
        "import glob\n",
        "import os\n",
        "\n",
        "# Directory of images to run detection on\n",
        "ROOT_DIR = os.getcwd()\n",
        "images = list(glob.iglob(os.path.join(ROOT_DIR, '*.jpg')))\n",
        "# Sort the images by integer index\n",
        "images = sorted(images, key=lambda x: float(os.path.split(x)[1][:-3]))\n",
        "\n",
        "outvid = os.path.join(ROOT_DIR, \"out.mp4\")\n",
        "make_video(outvid, images, fps=30)"
      ],
      "execution_count": 0,
      "outputs": []
    },
    {
      "cell_type": "code",
      "metadata": {
        "id": "GM5qLomcPjx0",
        "colab_type": "code",
        "colab": {}
      },
      "source": [
        "ls -l *.mp4"
      ],
      "execution_count": 0,
      "outputs": []
    },
    {
      "cell_type": "code",
      "metadata": {
        "id": "fPEGkC19QDM8",
        "colab_type": "code",
        "colab": {}
      },
      "source": [
        "from google.colab import files\n",
        "\n",
        "files.download('out.mp4')"
      ],
      "execution_count": 0,
      "outputs": []
    },
    {
      "cell_type": "code",
      "metadata": {
        "id": "A1dxgJWhLtZS",
        "colab_type": "code",
        "colab": {}
      },
      "source": [
        ""
      ],
      "execution_count": 0,
      "outputs": []
    }
  ]
}